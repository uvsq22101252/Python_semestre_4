{
 "cells": [
  {
   "cell_type": "code",
   "execution_count": null,
   "metadata": {},
   "outputs": [],
   "source": [
    "chaine_1 = str(input(\"entrer la chaine 1 de chr\"))\n",
    "chaine_2 = str(input(\"entrer la chaine 2 de chr\"))\n",
    "stockage = 0\n",
    "print(\"la chaine 1 est : \" + chaine_1 + \", elle est de longueur: \" + str(len(chaine_1)))\n",
    "print(\"la chaine 1 est : \" + chaine_2 + \", elle est de longueur: \" + str(len(chaine_2)))\n",
    "for i in chaine_2:\n",
    "    if chaine_1 in chaine_2:\n",
    "        stockage +=1\n",
    "print(\"la chaine 1 est présente : \"+ str(stockage))\n"
   ]
  },
  {
   "cell_type": "code",
   "execution_count": null,
   "metadata": {},
   "outputs": [],
   "source": [
    "largeur = int(input(\"donner la largeur\"))\n",
    "longueur = int(input(\"donner la longueur\"))\n",
    "aire = largeur * longueur\n"
   ]
  },
  {
   "cell_type": "code",
   "execution_count": 8,
   "metadata": {},
   "outputs": [
    {
     "name": "stdout",
     "output_type": "stream",
     "text": [
      "pourcentage de A: 40\n",
      "pourcentage de T: 0\n",
      "pourcentage de G: 40\n",
      "pourcentage de C: 20\n",
      "pourcentage de autre: 0\n"
     ]
    }
   ],
   "source": [
    "seq = input(\"entrer seq\")\n",
    "seq = seq.upper()\n",
    "pourcentage_A= 0\n",
    "pourcentage_T= 0\n",
    "pourcentage_G= 0\n",
    "pourcentage_C= 0\n",
    "pourcentage_0= 0\n",
    "effectifA,effectifT,effectifG,effectifC = 0,0,0,0\n",
    "taille_chaine = len(seq)\n",
    "i = 0\n",
    "while i < taille_chaine:\n",
    "\n",
    "    if seq[i] == \"A\":\n",
    "        effectifA += 1\n",
    "    if seq[i] ==\"T\":\n",
    "        effectifT += 1\n",
    "    if seq[i] == \"G\":\n",
    "        effectifG+= 1\n",
    "    if seq[i] == \"C\":\n",
    "        effectifC += 1\n",
    "\n",
    "    i+=1\n",
    "\n",
    "\n",
    "\n",
    "pourcentage_A = int((effectifA/taille_chaine)*100)\n",
    "pourcentage_T = int((effectifT/taille_chaine)*100)\n",
    "pourcentage_G = int((effectifG/taille_chaine)*100)\n",
    "pourcentage_C = int((effectifC/taille_chaine)*100)\n",
    "pourcentage_0 = int(100 -(pourcentage_A+pourcentage_T+pourcentage_G+pourcentage_C))\n",
    "\n",
    "print(\"pourcentage de A: \" +str(pourcentage_A)+\"\\n\"\n",
    "+\"pourcentage de T: \"+str(pourcentage_T)+\"\\n\"\n",
    "+\"pourcentage de G: \" +str(pourcentage_G)+\"\\n\"\n",
    "+\"pourcentage de C: \" +str(pourcentage_C)+\"\\n\"\n",
    "+\"pourcentage de autre: \" + str(pourcentage_0))\n",
    "\n",
    "        \n",
    "\n",
    "\n",
    "        \n",
    "\n",
    "        \n",
    "\n"
   ]
  },
  {
   "cell_type": "code",
   "execution_count": null,
   "metadata": {},
   "outputs": [],
   "source": [
    "chr1=input(\"entrer chr\")\n",
    "chr2 =input(\"entrer chr\")\n",
    "taille =len(chr1)\n",
    "i=0\n",
    "compteur = 0\n",
    "while i < taille:\n",
    "    if i in chr1:\n",
    "        compteur+=1\n",
    "\n",
    "print(\"la chr2 est presente : \"+ str(compteur)+\"dans la chr1\")\n",
    "\n"
   ]
  },
  {
   "cell_type": "code",
   "execution_count": null,
   "metadata": {},
   "outputs": [],
   "source": [
    "i =int(input(\"entre entier\"))\n",
    "if i%2 == 0:\n",
    "    print(\"l'entier est pair\")\n",
    "else:\n",
    "    print(\"l'entier est impair\")\n"
   ]
  },
  {
   "cell_type": "code",
   "execution_count": null,
   "metadata": {},
   "outputs": [],
   "source": [
    "i = int(input(\"entrer entier\"))\n",
    "if i<0:\n",
    "    print(\"l'entier est inf a zero\")\n",
    "if i >0:\n",
    "    print(\"l'entier est supp a zero\")\n",
    "else:\n",
    "    print(\"l'entier est égal à 0\")"
   ]
  },
  {
   "cell_type": "code",
   "execution_count": 10,
   "metadata": {},
   "outputs": [
    {
     "name": "stdout",
     "output_type": "stream",
     "text": [
      "ATATATAT\n"
     ]
    }
   ],
   "source": [
    "entrer = input(\"entrer chaine\")\n",
    "n = int(input(\"entrer le nbr de chr que vous voulez\"))\n",
    "print(entrer[0:n])\n",
    "\n",
    "\n"
   ]
  },
  {
   "cell_type": "code",
   "execution_count": 11,
   "metadata": {},
   "outputs": [
    {
     "name": "stdout",
     "output_type": "stream",
     "text": [
      "ATATATATATggggggg\n"
     ]
    }
   ],
   "source": [
    "entrer =input(\"entrer chaine\")\n",
    "n = int(input(\"entrer le nbr de chr que vous voulez\"))\n",
    "print(entrer[n:])"
   ]
  }
 ],
 "metadata": {
  "kernelspec": {
   "display_name": "l1-python",
   "language": "python",
   "name": "python3"
  },
  "language_info": {
   "codemirror_mode": {
    "name": "ipython",
    "version": 3
   },
   "file_extension": ".py",
   "mimetype": "text/x-python",
   "name": "python",
   "nbconvert_exporter": "python",
   "pygments_lexer": "ipython3",
   "version": "3.9.7"
  },
  "orig_nbformat": 4,
  "vscode": {
   "interpreter": {
    "hash": "e14e1e55d8f7c705459a8773e232d0ab78a1f482dfc27377d500c009111ee3d9"
   }
  }
 },
 "nbformat": 4,
 "nbformat_minor": 2
}

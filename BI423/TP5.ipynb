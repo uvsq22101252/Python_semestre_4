{
 "cells": [
  {
   "attachments": {},
   "cell_type": "markdown",
   "metadata": {},
   "source": [
    "**Exercice 1**"
   ]
  },
  {
   "cell_type": "code",
   "execution_count": null,
   "metadata": {},
   "outputs": [],
   "source": [
    "file_input = input(\"entrer un nom de fichier\")\n",
    "file = open(file_input,\"r\")\n",
    "stockage = \"\"\n",
    "ligne =file.readline()\n",
    "while ligne != \"\":\n",
    "    \n",
    "    stockage += ligne[:len(ligne)-1]\n",
    "    ligne = file.readline()\n",
    "file.close()\n",
    "print(stockage)\n",
    "\n"
   ]
  },
  {
   "attachments": {},
   "cell_type": "markdown",
   "metadata": {},
   "source": [
    "**exercice 2**"
   ]
  },
  {
   "cell_type": "code",
   "execution_count": null,
   "metadata": {},
   "outputs": [],
   "source": [
    "file_input = input(\"entrer nom fichier input\")\n",
    "file_output= input(\"entrer nom fichier output\")\n",
    "fi = open(file_input,\"r\")\n",
    "fo = open(file_output,\"w\")\n",
    "stockage = \"\"\n",
    "i = 0\n",
    "effectif_a,effectif_t,effectif_g,effectif_c = 0,0,0,0\n",
    "ligne =fi.readline()\n",
    "while ligne !=\"\":\n",
    "    \n",
    "    stockage += ligne[:len(ligne)-1]\n",
    "    ligne = fi.readline()\n",
    "\n",
    "while i < len(stockage):\n",
    "    if stockage[i] == \"a\":\n",
    "        effectif_a += 1\n",
    "    elif stockage[i] == \"t\":\n",
    "        effectif_t += 1\n",
    "    elif stockage[i] == \"g\":\n",
    "        effectif_g += 1\n",
    "    if stockage[i] == \"c\":\n",
    "        effectif_c += 1\n",
    "    i+= 1\n",
    "fo.write(\"pourcentage a:\"+ str((effectif_a/len(stockage))*100)+ \"\\n\")\n",
    "fo.write(\"pourcentage t:\"+ str((effectif_t/len(stockage))*100)+\"\\n\")\n",
    "fo.write(\"pourcentage g:\"+ str((effectif_g/len(stockage))*100)+\"\\n\")\n",
    "fo.write(\"pourcentage c:\"+ str((effectif_c/len(stockage))*100)+\"\\n\")\n",
    "\n",
    "fi.close()\n",
    "fo.close()\n",
    "    \n",
    "       \n",
    "\n"
   ]
  },
  {
   "attachments": {},
   "cell_type": "markdown",
   "metadata": {},
   "source": [
    "**Exercice 3**"
   ]
  },
  {
   "cell_type": "code",
   "execution_count": null,
   "metadata": {},
   "outputs": [],
   "source": [
    "file_input = input(\"entrer nom fichier input\")\n",
    "file_output= input(\"entrer nom fichier output\")\n",
    "fi = open(file_input,\"r\")\n",
    "fo = open(file_output,\"w\")\n",
    "stockage = \"\"\n",
    "codon = \"\"\n",
    "i = 0\n",
    "ligne =fi.readline()\n",
    "while ligne !=\"\":\n",
    "    stockage += ligne[:len(ligne)-1]\n",
    "    ligne = fi.readline()\n",
    "fi.close()\n",
    "while i < len(stockage):\n",
    "    codon += stockage[i:i+3] + \"/\"\n",
    "    i+= 1\n",
    "\n",
    "fo.write(codon)\n",
    "fo.close()\n",
    "\n",
    "    "
   ]
  },
  {
   "attachments": {},
   "cell_type": "markdown",
   "metadata": {},
   "source": [
    "**Exercice 4**"
   ]
  },
  {
   "cell_type": "code",
   "execution_count": 8,
   "metadata": {},
   "outputs": [],
   "source": [
    "file_input = input(\"enter nom du fichier\")\n",
    "n_input = int(input(\"entrer l'entier n\"))\n",
    "name_file = input(\"entrer le nom du fichier de sortie\")\n",
    "\n",
    "fi = open(file_input, \"r\")\n",
    "fo = open(name_file,\"w\")\n",
    "stockage = \"\"\n",
    "ligne =fi.readline()\n",
    "while ligne != \"\":\n",
    "    stockage += ligne[:len(ligne)-1]\n",
    "    ligne =fi.readline()\n",
    "\n",
    "i = 0\n",
    "prt = \"seq pareil:\"\n",
    "while i < len(stockage):\n",
    "    compa= stockage[i : n_input]\n",
    "    j= 0\n",
    "    while j+n_input < len(stockage):\n",
    "        tt =stockage[j:j+n_input]\n",
    "        if compa == tt:\n",
    "           fo.write(tt + \", \")\n",
    "        j+=1\n",
    "    i += 1\n",
    "\n",
    "fi.close()\n",
    "fo.close()"
   ]
  },
  {
   "attachments": {},
   "cell_type": "markdown",
   "metadata": {},
   "source": [
    "**Exercice 5**"
   ]
  },
  {
   "cell_type": "code",
   "execution_count": null,
   "metadata": {},
   "outputs": [],
   "source": [
    "fseq = input(\"entrer nom fichier seq\")\n",
    "motif = input(\"entrer le motif à comparer\")\n",
    "\n",
    "fi = fi.open(fseq,\"r\")\n",
    "ligne = fi.readline()\n",
    "nbrmotif = 0\n",
    "while ligne !=\"\":\n",
    "    nbrmotif += ligne.find(motif)\n",
    "    ligne = fi.readline()\n",
    "    \n",
    "\n",
    "print(nbrmotif)\n",
    "    "
   ]
  }
 ],
 "metadata": {
  "kernelspec": {
   "display_name": "l1-python",
   "language": "python",
   "name": "python3"
  },
  "language_info": {
   "codemirror_mode": {
    "name": "ipython",
    "version": 3
   },
   "file_extension": ".py",
   "mimetype": "text/x-python",
   "name": "python",
   "nbconvert_exporter": "python",
   "pygments_lexer": "ipython3",
   "version": "3.9.7"
  },
  "orig_nbformat": 4,
  "vscode": {
   "interpreter": {
    "hash": "e14e1e55d8f7c705459a8773e232d0ab78a1f482dfc27377d500c009111ee3d9"
   }
  }
 },
 "nbformat": 4,
 "nbformat_minor": 2
}

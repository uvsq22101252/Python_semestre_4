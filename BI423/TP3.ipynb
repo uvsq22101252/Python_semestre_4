{
 "cells": [
  {
   "attachments": {},
   "cell_type": "markdown",
   "metadata": {},
   "source": [
    "ex 1"
   ]
  },
  {
   "cell_type": "code",
   "execution_count": 3,
   "metadata": {},
   "outputs": [
    {
     "name": "stdout",
     "output_type": "stream",
     "text": [
      "a z e r t g h "
     ]
    }
   ],
   "source": [
    "entrer = input(\"entrer\")\n",
    "i =0\n",
    "while i < len(entrer):\n",
    "    print(entrer[i],end=\" \")\n",
    "    i+=1\n"
   ]
  },
  {
   "attachments": {},
   "cell_type": "markdown",
   "metadata": {},
   "source": [
    "ex2"
   ]
  },
  {
   "cell_type": "code",
   "execution_count": 5,
   "metadata": {},
   "outputs": [
    {
     "name": "stdout",
     "output_type": "stream",
     "text": [
      "a, position : 0\n",
      "t, position : 1\n",
      "t, position : 2\n",
      "t, position : 3\n",
      "g, position : 4\n",
      "g, position : 5\n",
      "g, position : 6\n"
     ]
    }
   ],
   "source": [
    "entrer =input(\"entrer seq\")\n",
    "i = 0\n",
    "while i< len(entrer):\n",
    "    print(str(entrer[i])+\", position : \"+str(i+1))\n",
    "    i+=1\n",
    "\n"
   ]
  },
  {
   "cell_type": "code",
   "execution_count": 12,
   "metadata": {},
   "outputs": [
    {
     "name": "stdout",
     "output_type": "stream",
     "text": [
      "CM\n",
      "il y a 2 acide aminé soufrés dans la seg\n"
     ]
    }
   ],
   "source": [
    "entrer =input(\"entrer seq\")\n",
    "entrer = entrer.upper()\n",
    "print(entrer)\n",
    "i =0\n",
    "compteur = 0\n",
    "while i< len(entrer):\n",
    "    if entrer[i] == \"C\" or entrer[i] == \"M\":\n",
    "        compteur +=1\n",
    "    i+= 1\n",
    "print(\"il y a \"+str(compteur)+\" acide aminé soufrés dans la seg\")\n"
   ]
  },
  {
   "attachments": {},
   "cell_type": "markdown",
   "metadata": {},
   "source": [
    "exercice 4 voir TP 2"
   ]
  },
  {
   "attachments": {},
   "cell_type": "markdown",
   "metadata": {},
   "source": [
    "exercice 5"
   ]
  },
  {
   "cell_type": "code",
   "execution_count": null,
   "metadata": {},
   "outputs": [],
   "source": []
  },
  {
   "cell_type": "code",
   "execution_count": 19,
   "metadata": {},
   "outputs": [
    {
     "name": "stdout",
     "output_type": "stream",
     "text": [
      "AUUGC\n"
     ]
    }
   ],
   "source": [
    "entrer =input(\"entrer seq\")\n",
    "i =0\n",
    "sortie =\"\"\n",
    "while i < len(entrer):\n",
    "    if entrer[i] == \"T\":\n",
    "        sortie+= \"U\"\n",
    "    else:\n",
    "        sortie += entrer[i]         \n",
    "    i+=1\n",
    "\n",
    "print(sortie)"
   ]
  },
  {
   "cell_type": "code",
   "execution_count": 20,
   "metadata": {},
   "outputs": [
    {
     "name": "stdout",
     "output_type": "stream",
     "text": [
      "ATG CGG CTG CTG ATG GAT ATC CCA ATT GGT GTC CAG "
     ]
    }
   ],
   "source": [
    "entrer =input(\"entrer seq\")\n",
    "i = 0\n",
    "while i < len(entrer):\n",
    "    print(entrer[i:i+3],end=\" \")\n",
    "    i+=3\n"
   ]
  }
 ],
 "metadata": {
  "kernelspec": {
   "display_name": "l1-python",
   "language": "python",
   "name": "python3"
  },
  "language_info": {
   "codemirror_mode": {
    "name": "ipython",
    "version": 3
   },
   "file_extension": ".py",
   "mimetype": "text/x-python",
   "name": "python",
   "nbconvert_exporter": "python",
   "pygments_lexer": "ipython3",
   "version": "3.9.7"
  },
  "orig_nbformat": 4,
  "vscode": {
   "interpreter": {
    "hash": "e14e1e55d8f7c705459a8773e232d0ab78a1f482dfc27377d500c009111ee3d9"
   }
  }
 },
 "nbformat": 4,
 "nbformat_minor": 2
}

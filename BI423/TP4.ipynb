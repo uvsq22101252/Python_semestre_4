{
 "cells": [
  {
   "attachments": {},
   "cell_type": "markdown",
   "metadata": {},
   "source": [
    "**exercice 1:**"
   ]
  },
  {
   "cell_type": "code",
   "execution_count": 22,
   "metadata": {},
   "outputs": [
    {
     "name": "stdout",
     "output_type": "stream",
     "text": [
      "la sequence inverse est : 5'-CGGCTATATCAGGGTCAAGCC-3'\n"
     ]
    }
   ],
   "source": [
    "seq_input=input(\"entrer la séquence que vous voulez transformer\")\n",
    "seq_inverse = \"\"\n",
    "i = 0\n",
    "while i < len(seq_input):\n",
    "    if seq_input[i] == \"A\":\n",
    "        seq_inverse = \"T\"+ seq_inverse\n",
    "    elif seq_input[i] == \"T\":\n",
    "        seq_inverse = \"A\" + seq_inverse\n",
    "    elif seq_input[i] == \"G\":\n",
    "        seq_inverse = \"C\"+ seq_inverse\n",
    "    elif seq_input[i]== \"C\":\n",
    "        seq_inverse = \"G\" +seq_inverse\n",
    "    i+=1\n",
    "print(\"la sequence inverse est : 5'-\"+ seq_inverse+\"-3'\")\n",
    "\n",
    "\n"
   ]
  },
  {
   "attachments": {},
   "cell_type": "markdown",
   "metadata": {},
   "source": [
    "**Exercice 2**"
   ]
  },
  {
   "cell_type": "code",
   "execution_count": 4,
   "metadata": {},
   "outputs": [
    {
     "name": "stdout",
     "output_type": "stream",
     "text": [
      "il y a 4, aux positions :[0, 1, 23, 24]\n"
     ]
    }
   ],
   "source": [
    "seq_input = input(\"entrer la séquence que vous voulez transformer\")\n",
    "i = 0\n",
    "charvalid = [\"A\",\"T\",\"G\",\"C\"]\n",
    "erreurs = 0\n",
    "listpos = []\n",
    "\n",
    "while i < len(seq_input):\n",
    "    if seq_input[i] not in  charvalid:\n",
    "        erreurs += 1\n",
    "        listpos.append(i)\n",
    "    i+= 1\n",
    "print(\"il y a \"+ str(erreurs)+ \", aux positions :\" + str(listpos))\n",
    "\n",
    "\n",
    "\n",
    "\n"
   ]
  },
  {
   "cell_type": "code",
   "execution_count": 5,
   "metadata": {},
   "outputs": [
    {
     "name": "stdout",
     "output_type": "stream",
     "text": [
      "il y a une erreur à la pos: 0\n",
      "il y a une erreur à la pos: 1\n",
      "il y a une erreur à la pos: 23\n",
      "il y a une erreur à la pos: 24\n",
      "il y a 4 ereurs\n"
     ]
    }
   ],
   "source": [
    "seq_input = input(\"entrer la seq\")\n",
    "i = 0\n",
    "erreurs = 0\n",
    "\n",
    "while i < len(seq_input):\n",
    "    if seq_input[i] not in \"ATGC\":\n",
    "        erreurs += 1\n",
    "        print(\"il y a une erreur à la pos: \"+str(i))\n",
    "    i+= 1\n",
    "print(\"il y a \"+ str(erreurs)+ \" ereurs\")\n",
    "\n"
   ]
  },
  {
   "attachments": {},
   "cell_type": "markdown",
   "metadata": {},
   "source": [
    "**Exercice 3 :**"
   ]
  },
  {
   "cell_type": "code",
   "execution_count": 5,
   "metadata": {},
   "outputs": [
    {
     "name": "stdout",
     "output_type": "stream",
     "text": [
      "il y a 1, aux positions :[4]\n"
     ]
    }
   ],
   "source": [
    "seq_input = input(\"entrer la séquence que vous voulez transformer\")\n",
    "i = 0\n",
    "charvalid = [\"A\",\"T\",\"G\",\"C\"]\n",
    "erreurs = 0\n",
    "listpos = []\n",
    "\n",
    "while i < len(seq_input):\n",
    "    if seq_input[i] not in  charvalid:\n",
    "        erreurs += 1\n",
    "        listpos.append(i)\n",
    "        break\n",
    "    i+= 1\n",
    "print(\"il y a \"+ str(erreurs)+ \", aux positions :\" + str(listpos))\n",
    "\n",
    "\n",
    "\n",
    "\n"
   ]
  },
  {
   "attachments": {},
   "cell_type": "markdown",
   "metadata": {},
   "source": [
    "**Exercice 4 :**"
   ]
  },
  {
   "cell_type": "code",
   "execution_count": 8,
   "metadata": {},
   "outputs": [
    {
     "name": "stdout",
     "output_type": "stream",
     "text": [
      "le mot benji n'est pas un palindrome\n"
     ]
    }
   ],
   "source": [
    "char_input = input(\"entrer le mot\")\n",
    "reverseinput = char_input[::-1]\n",
    "if char_input == reverseinput:\n",
    "    print(\"le mot \"+ char_input + \" est un palindrome\")\n",
    "else:\n",
    "    print(\"le mot \"+char_input+\" n'est pas un palindrome\")"
   ]
  },
  {
   "cell_type": "code",
   "execution_count": 20,
   "metadata": {},
   "outputs": [
    {
     "name": "stdout",
     "output_type": "stream",
     "text": [
      "le mot n'est pas un palindrome\n"
     ]
    }
   ],
   "source": [
    "char_input = input(\"entrer seq\")\n",
    "i = 0\n",
    "verif = True\n",
    "while i < (len(char_input)//2) and verif == True:\n",
    "    if char_input[i] != char_input[len(char_input)-i-1]:\n",
    "        verif = False\n",
    "    i+=1\n",
    "if verif ==  True:\n",
    "    print(\"le mot est un palindrome\")\n",
    "else:\n",
    "    print(\"le mot n'est pas un palindrome\")\n",
    "\n"
   ]
  },
  {
   "attachments": {},
   "cell_type": "markdown",
   "metadata": {},
   "source": [
    "**Exercice 5 :**"
   ]
  },
  {
   "cell_type": "code",
   "execution_count": 16,
   "metadata": {},
   "outputs": [
    {
     "name": "stdout",
     "output_type": "stream",
     "text": [
      "la seq est un palindrome\n"
     ]
    }
   ],
   "source": [
    "seq_input= input(\"enter seq\")\n",
    "i = 0\n",
    "verif = True\n",
    "if len(seq_input) %2 == 1:\n",
    "    print(\"la seq n'est pas un palindrome\")\n",
    "else:\n",
    "    seq_part_1 = seq_input[0:len(seq_input)//2]\n",
    "    seq_part_2 = seq_input[(len(seq_input)//2):]\n",
    "    while i < len(seq_part_1):\n",
    "        if verif == False:\n",
    "            print(\"la sequence n'est pas un palindrome\")\n",
    "            break\n",
    "        else :\n",
    "            if seq_part_1[i] == \"A\" and seq_part_2[-(i+1)] == \"T\":\n",
    "                verif = True\n",
    "            elif seq_part_1[i] == \"T\" and seq_part_2[-(i+1)]== \"A\":\n",
    "                verif = True\n",
    "            elif seq_part_1[i] == \"G\" and seq_part_2[-(i+1)]== \"C\":\n",
    "                verif = True\n",
    "            elif seq_part_1[i] == \"C\" and seq_part_2[-(i+1)]== \"G\":\n",
    "                verif = True\n",
    "            else:\n",
    "                verif = False\n",
    "        i+=1\n",
    "if verif == True:\n",
    "    print(\"la seq est un palindrome\")\n"
   ]
  },
  {
   "cell_type": "code",
   "execution_count": 7,
   "metadata": {},
   "outputs": [
    {
     "data": {
      "text/plain": [
       "'ATGCATGCATGCATGC'"
      ]
     },
     "execution_count": 7,
     "metadata": {},
     "output_type": "execute_result"
    }
   ],
   "source": [
    "tt = \"ATGCATGCATGCATGC\\n\"\n",
    "tt[:len(tt)-1]\n"
   ]
  }
 ],
 "metadata": {
  "kernelspec": {
   "display_name": "l1-python",
   "language": "python",
   "name": "python3"
  },
  "language_info": {
   "codemirror_mode": {
    "name": "ipython",
    "version": 3
   },
   "file_extension": ".py",
   "mimetype": "text/x-python",
   "name": "python",
   "nbconvert_exporter": "python",
   "pygments_lexer": "ipython3",
   "version": "3.9.7"
  },
  "orig_nbformat": 4,
  "vscode": {
   "interpreter": {
    "hash": "e14e1e55d8f7c705459a8773e232d0ab78a1f482dfc27377d500c009111ee3d9"
   }
  }
 },
 "nbformat": 4,
 "nbformat_minor": 2
}

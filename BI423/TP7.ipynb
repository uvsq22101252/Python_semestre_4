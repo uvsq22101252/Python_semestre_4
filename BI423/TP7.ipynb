{
 "cells": [
  {
   "cell_type": "code",
   "execution_count": 8,
   "metadata": {},
   "outputs": [
    {
     "name": "stdout",
     "output_type": "stream",
     "text": [
      "1\n"
     ]
    }
   ],
   "source": [
    "from mathplotlib import pyplot as plt\n",
    "\n",
    "file_1 = input(\"nom du premier fichier\")\n",
    "file_2 = input(\"nom du 2eme fichier\")\n",
    "taille_fenetre = input(\"entrer taille fenetre\")\n",
    "fi1 = open(file_1,\"r\")\n",
    "fi2 = open(file_2, \"r\")\n",
    "\n",
    "seq_x = \"\"\n",
    "seq_y = \"\"\n",
    "ligne = fi1.readline()\n",
    "while ligne == \"\":\n",
    "    seq_x += ligne\n",
    "    ligne = fi1.readline.strip(\"\\n\").strip(\" \")\n",
    "ligne = \"\"\n",
    "ligne = fi2.readline()\n",
    "while ligne == \"\"():\n",
    "    seq_y += ligne\n",
    "    ligne = fi2.readline.strip(\"\\n\").strip(\" \")\n",
    "\n",
    "fi1.close(), fi2.close()\n",
    "\n",
    "\n",
    "\n",
    "\n",
    "\n",
    "\n",
    "\n",
    "\n",
    "\n",
    "\n",
    "\n"
   ]
  }
 ],
 "metadata": {
  "kernelspec": {
   "display_name": "Python 3",
   "language": "python",
   "name": "python3"
  },
  "language_info": {
   "codemirror_mode": {
    "name": "ipython",
    "version": 3
   },
   "file_extension": ".py",
   "mimetype": "text/x-python",
   "name": "python",
   "nbconvert_exporter": "python",
   "pygments_lexer": "ipython3",
   "version": "3.8.10"
  },
  "orig_nbformat": 4
 },
 "nbformat": 4,
 "nbformat_minor": 2
}

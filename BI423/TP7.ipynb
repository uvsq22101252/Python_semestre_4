{
 "cells": [
  {
   "cell_type": "code",
   "execution_count": 1,
   "metadata": {},
   "outputs": [
    {
     "ename": "FileNotFoundError",
     "evalue": "[Errno 2] No such file or directory: ''",
     "output_type": "error",
     "traceback": [
      "\u001b[1;31m---------------------------------------------------------------------------\u001b[0m",
      "\u001b[1;31mFileNotFoundError\u001b[0m                         Traceback (most recent call last)",
      "Cell \u001b[1;32mIn[1], line 3\u001b[0m\n\u001b[0;32m      1\u001b[0m \u001b[39mimport\u001b[39;00m \u001b[39mmatplotlib\u001b[39;00m\u001b[39m.\u001b[39;00m\u001b[39mpyplot\u001b[39;00m \u001b[39mas\u001b[39;00m \u001b[39mplt\u001b[39;00m\n\u001b[1;32m----> 3\u001b[0m fichier_1 \u001b[39m=\u001b[39m \u001b[39mopen\u001b[39;49m(\u001b[39minput\u001b[39;49m(\u001b[39m\"\u001b[39;49m\u001b[39mentrer nom fichier pour axe x\u001b[39;49m\u001b[39m\"\u001b[39;49m),\u001b[39m\"\u001b[39;49m\u001b[39mr\u001b[39;49m\u001b[39m\"\u001b[39;49m)\n\u001b[0;32m      4\u001b[0m fichier_2 \u001b[39m=\u001b[39m \u001b[39mopen\u001b[39m(\u001b[39minput\u001b[39m(\u001b[39m\"\u001b[39m\u001b[39mentrer nom fichier pour axe y\u001b[39m\u001b[39m\"\u001b[39m),\u001b[39m\"\u001b[39m\u001b[39mr\u001b[39m\u001b[39m\"\u001b[39m)\n\u001b[0;32m      5\u001b[0m tailles_fenetre \u001b[39m=\u001b[39m \u001b[39mint\u001b[39m(\u001b[39minput\u001b[39m(\u001b[39m\"\u001b[39m\u001b[39mentrer la taille de la fenetre\u001b[39m\u001b[39m\"\u001b[39m))\n",
      "File \u001b[1;32mc:\\Users\\Benji\\miniconda3\\envs\\pyem\\lib\\site-packages\\IPython\\core\\interactiveshell.py:284\u001b[0m, in \u001b[0;36m_modified_open\u001b[1;34m(file, *args, **kwargs)\u001b[0m\n\u001b[0;32m    277\u001b[0m \u001b[39mif\u001b[39;00m file \u001b[39min\u001b[39;00m {\u001b[39m0\u001b[39m, \u001b[39m1\u001b[39m, \u001b[39m2\u001b[39m}:\n\u001b[0;32m    278\u001b[0m     \u001b[39mraise\u001b[39;00m \u001b[39mValueError\u001b[39;00m(\n\u001b[0;32m    279\u001b[0m         \u001b[39mf\u001b[39m\u001b[39m\"\u001b[39m\u001b[39mIPython won\u001b[39m\u001b[39m'\u001b[39m\u001b[39mt let you open fd=\u001b[39m\u001b[39m{\u001b[39;00mfile\u001b[39m}\u001b[39;00m\u001b[39m by default \u001b[39m\u001b[39m\"\u001b[39m\n\u001b[0;32m    280\u001b[0m         \u001b[39m\"\u001b[39m\u001b[39mas it is likely to crash IPython. If you know what you are doing, \u001b[39m\u001b[39m\"\u001b[39m\n\u001b[0;32m    281\u001b[0m         \u001b[39m\"\u001b[39m\u001b[39myou can use builtins\u001b[39m\u001b[39m'\u001b[39m\u001b[39m open.\u001b[39m\u001b[39m\"\u001b[39m\n\u001b[0;32m    282\u001b[0m     )\n\u001b[1;32m--> 284\u001b[0m \u001b[39mreturn\u001b[39;00m io_open(file, \u001b[39m*\u001b[39margs, \u001b[39m*\u001b[39m\u001b[39m*\u001b[39mkwargs)\n",
      "\u001b[1;31mFileNotFoundError\u001b[0m: [Errno 2] No such file or directory: ''"
     ]
    }
   ],
   "source": [
    "import matplotlib.pyplot as plt\n",
    "\n",
    "fichier_1 = open(input(\"entrer nom fichier pour axe x\"),\"r\")\n",
    "fichier_2 = open(input(\"entrer nom fichier pour axe y\"),\"r\")\n",
    "tailles_fenetre = int(input(\"entrer la taille de la fenetre\"))\n",
    "\n",
    "ligne_x = fichier_1.readline()\n",
    "stockage_x = \"\"\n",
    "while ligne_x !=\"\":\n",
    "    stockage_x += ligne_x[:len(ligne_x)-1]\n",
    "    ligne_x = fichier_1.readline()\n",
    "\n",
    "ligne_y = fichier_2.readline()\n",
    "stockage_y = \"\"\n",
    "while ligne_y !=\"\":\n",
    "    stockage_y += ligne_y[:len(ligne_y)-1]\n",
    "    ligne_y = fichier_2.readline()\n",
    "\n",
    "fichier_1.close(),fichier_2.close()\n",
    "\n",
    "\n",
    "plt.title(\"Dot Plot\") # titre du graphique\n",
    "plt.xlabel(\"Axe X\") # label/nom de l'axe des abscisses\n",
    "plt.ylabel(\"Axe Y\") # label/nom de l'axe des des ordonnees\n",
    "plt.xlim(0, len(stockage_x)) # taille/longueur de l'axe des \"x\"\n",
    "plt.ylim(0, len(stockage_y)) # taille/longueur de l'axe des \"y\"\n",
    "point_x = 0\n",
    "point_y = 0\n",
    "while point_x < len(stockage_x)-1:\n",
    "    while point_y < len(stockage_y)-1:\n",
    "        if stockage_x[point_x:(point_x+tailles_fenetre)-1] == stockage_y[point_y:(point_y+tailles_fenetre)-1]:\n",
    "            plt.scatter(point_x,point_y, c=\"red\", s=15)\n",
    "        point_y += 1\n",
    "    point_y = 0\n",
    "    point_x += 1\n",
    "plt.savefig(\"TD7.png\")\n",
    "plt.show()   \n"
   ]
  }
 ],
 "metadata": {
  "kernelspec": {
   "display_name": "Python 3",
   "language": "python",
   "name": "python3"
  },
  "language_info": {
   "codemirror_mode": {
    "name": "ipython",
    "version": 3
   },
   "file_extension": ".py",
   "mimetype": "text/x-python",
   "name": "python",
   "nbconvert_exporter": "python",
   "pygments_lexer": "ipython3",
   "version": "3.10.4"
  },
  "orig_nbformat": 4
 },
 "nbformat": 4,
 "nbformat_minor": 2
}

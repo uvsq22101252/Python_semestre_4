{
 "cells": [
  {
   "cell_type": "code",
   "execution_count": 2,
   "metadata": {},
   "outputs": [
    {
     "ename": "ModuleNotFoundError",
     "evalue": "No module named 'mathplotlib'",
     "output_type": "error",
     "traceback": [
      "\u001b[0;31m---------------------------------------------------------------------------\u001b[0m",
      "\u001b[0;31mModuleNotFoundError\u001b[0m                       Traceback (most recent call last)",
      "Cell \u001b[0;32mIn[2], line 1\u001b[0m\n\u001b[0;32m----> 1\u001b[0m \u001b[39mimport\u001b[39;00m \u001b[39mmathplotlib\u001b[39;00m\u001b[39m.\u001b[39;00m\u001b[39mpyplot\u001b[39;00m \u001b[39mas\u001b[39;00m \u001b[39mplt\u001b[39;00m\n\u001b[1;32m      3\u001b[0m fichier_1 \u001b[39m=\u001b[39m \u001b[39mopen\u001b[39m(\u001b[39minput\u001b[39m(\u001b[39m\"\u001b[39m\u001b[39mentrer nom fichier pour axe x\u001b[39m\u001b[39m\"\u001b[39m),\u001b[39m\"\u001b[39m\u001b[39mr\u001b[39m\u001b[39m\"\u001b[39m)\n\u001b[1;32m      4\u001b[0m fichier_2 \u001b[39m=\u001b[39m \u001b[39mopen\u001b[39m(\u001b[39minput\u001b[39m(\u001b[39m\"\u001b[39m\u001b[39mentrer nom fichier pour axe y\u001b[39m\u001b[39m\"\u001b[39m),\u001b[39m\"\u001b[39m\u001b[39mr\u001b[39m\u001b[39m\"\u001b[39m)\n",
      "\u001b[0;31mModuleNotFoundError\u001b[0m: No module named 'mathplotlib'"
     ]
    }
   ],
   "source": [
    "import mathplotlib.pyplot as plt\n",
    "\n",
    "fichier_1 = open(input(\"entrer nom fichier pour axe x\"),\"r\")\n",
    "fichier_2 = open(input(\"entrer nom fichier pour axe y\"),\"r\")\n",
    "tailles_fenetre = int(input(\"entrer la taille de la fenetre\"))\n",
    "\n",
    "ligne_x = fichier_1.readline()\n",
    "stockage_x = \"\"\n",
    "while ligne_x !=\"\":\n",
    "    stockage_x += ligne_x[:len(ligne_x)-1]\n",
    "    ligne_x = fichier_1.readline()\n",
    "\n",
    "ligne_y = fichier_2.readline()\n",
    "stockage_y = \"\"\n",
    "while ligne_y !=\"\":\n",
    "    stockage_y += ligne_y[:len(ligne_y)-1]\n",
    "    ligne_y = fichier_2.readline()\n",
    "\n",
    "fichier_1.close(),fichier_2.close()\n",
    "\n",
    "\n",
    "plt.title(\"Dot Plot\") # titre du graphique\n",
    "plt.xlabel(\"Axe X\") # label/nom de l'axe des abscisses\n",
    "plt.ylabel(\"Axe Y\") # label/nom de l'axe des des ordonnees\n",
    "plt.xlim(0, len(stockage_x)) # taille/longueur de l'axe des \"x\"\n",
    "plt.ylim(0, len(stockage_y)) # taille/longueur de l'axe des \"y\"\n",
    "point_x = 0\n",
    "point_y = 0\n",
    "while point_x < len(stockage_x)-1:\n",
    "    while point_y < len(stockage_y)-1:\n",
    "        if stockage_x[point_x:(point_x+tailles_fenetre)-1] == stockage_y[point_y:(point_y+tailles_fenetre)-1]:\n",
    "            plt.scatter(point_x,point_y, c=\"red\", s=15)\n",
    "        point_y += 1\n",
    "    point_y = 0\n",
    "    point_x += 1\n",
    "plt.savefig(\"TD7.png\")\n",
    "plt.show()   \n"
   ]
  }
 ],
 "metadata": {
  "kernelspec": {
   "display_name": "Python 3",
   "language": "python",
   "name": "python3"
  },
  "language_info": {
   "codemirror_mode": {
    "name": "ipython",
    "version": 3
   },
   "file_extension": ".py",
   "mimetype": "text/x-python",
   "name": "python",
   "nbconvert_exporter": "python",
   "pygments_lexer": "ipython3",
   "version": "3.8.10"
  },
  "orig_nbformat": 4
 },
 "nbformat": 4,
 "nbformat_minor": 2
}
